{
 "cells": [
  {
   "cell_type": "markdown",
   "metadata": {},
   "source": [
    "## Relayed HOPR tokens by the ct-app"
   ]
  },
  {
   "cell_type": "code",
   "execution_count": 2,
   "metadata": {},
   "outputs": [],
   "source": [
    "from dotenv import load_dotenv\n",
    "import sys\n",
    "sys.path.append(\"../\")\n",
    "\n",
    "from core.components.parameters import Parameters # noqa: E402\n",
    "from core.components.utils import Utils # noqa: E402\n",
    "from core.model.subgraph_entry import SubgraphEntry # noqa: E402\n",
    "from core.model.topology_entry import TopologyEntry # noqa: E402\n",
    "from core.model.economic_model import EconomicModel # noqa: E402\n",
    "from core.model.peer import Peer # noqa: E402\n",
    "from core.node import Node # noqa: E402"
   ]
  },
  {
   "cell_type": "code",
   "execution_count": 2,
   "metadata": {},
   "outputs": [],
   "source": [
    "# Load environment variables\n",
    "load_dotenv(\".envs/relayed_token.env\")\n",
    "\n",
    "params = Parameters()(\"SUBGRAPH_\", \"GCP_\", \"ECONOMIC_MODEL_\")\n",
    "nodes = Node.fromAddressListAndKey(*Utils.nodesAddresses(\"NODE_ADDRESS_\", \"NODE_KEY\"))\n",
    "\n",
    "api = nodes[-1].api\n",
    "network_nodes = nodes[:-1]\n"
   ]
  },
  {
   "cell_type": "code",
   "execution_count": 3,
   "metadata": {},
   "outputs": [],
   "source": [
    "async def get_subgraph_data():\n",
    "    data = {\n",
    "        \"query\": params.subgraph.safes_balance_query,\n",
    "        \"variables\": {\"first\": params.subgraph.pagination_size, \"skip\": 0},\n",
    "    }\n",
    "\n",
    "    safes = []\n",
    "    while True:\n",
    "        _, response = await Utils.httpPOST(\n",
    "            params.subgraph.safes_balance_url, data\n",
    "        )\n",
    "\n",
    "        if \"data\" not in response:\n",
    "            break\n",
    "\n",
    "        safes.extend(response[\"data\"][\"safes\"])\n",
    "\n",
    "        if len(response[\"data\"][\"safes\"]) >= params.subgraph.pagination_size:\n",
    "            data[\"variables\"][\"skip\"] += params.subgraph.pagination_size\n",
    "        else:\n",
    "            break\n",
    "\n",
    "    results = list[SubgraphEntry]()\n",
    "    for safe in safes:\n",
    "        results.extend(\n",
    "            [\n",
    "                SubgraphEntry.fromSubgraphResult(node)\n",
    "                for node in safe[\"registeredNodesInNetworkRegistry\"]\n",
    "            ]\n",
    "        )\n",
    "\n",
    "\n",
    "    return results\n",
    "\n",
    "async def get_topology_data():\n",
    "    channels = await api.all_channels(False)\n",
    "\n",
    "    results = await Utils.aggregatePeerBalanceInChannels(channels.all)\n",
    "    return [TopologyEntry.fromDict(*arg) for arg in results.items()]\n",
    "\n",
    "async def get_node_data():\n",
    "    results = set[Peer]()\n",
    "\n",
    "    for node in network_nodes:\n",
    "        await node._retrieve_address()\n",
    "        node_result = await node.api.peers(params=[\"peer_id\", \"peer_address\"], quality=0.5)\n",
    "        \n",
    "        peers = {Peer(item[\"peer_id\"], item[\"peer_address\"]) for item in node_result}\n",
    "        results.update(peers)\n",
    "\n",
    "    return results\n",
    "\n",
    "async def get_fundings(from_address: str, to_address: str):\n",
    "    query: str =  params.subgraph.wxhopr_txs_query\n",
    "    query = query.replace(\"$from\", f'\\\"{from_address}\\\"')\n",
    "    query = query.replace(\"$to\", f'\\\"{to_address}\\\"')\n",
    "\n",
    "    _, response = await Utils.httpPOST(params.subgraph.wxhopr_txs_url, { \"query\": query })\n",
    "\n",
    "    amounts = [float(tx[\"amount\"]) for tx in response[\"data\"][\"transactions\"]] \n",
    "\n",
    "    return amounts"
   ]
  },
  {
   "cell_type": "code",
   "execution_count": 4,
   "metadata": {},
   "outputs": [
    {
     "name": "stdout",
     "output_type": "stream",
     "text": [
      "Topology size: 397\n",
      "Subgraph size: 552\n",
      "Number of peers: 352\n"
     ]
    }
   ],
   "source": [
    "topology = await get_topology_data()\n",
    "print(f\"Topology size: {len(topology)}\")\n",
    "\n",
    "subgraph = await get_subgraph_data()\n",
    "print(f\"Subgraph size: {len(subgraph)}\")\n",
    "\n",
    "peers = await get_node_data()\n",
    "print(f\"Number of peers: {len(peers)}\")"
   ]
  },
  {
   "cell_type": "code",
   "execution_count": 5,
   "metadata": {},
   "outputs": [
    {
     "name": "stdout",
     "output_type": "stream",
     "text": [
      "Eligible peers: 287\n"
     ]
    }
   ],
   "source": [
    "eligible = Utils.mergeTopologyPeersSubgraph(topology, peers, subgraph)\n",
    "Utils.allowManyNodePerSafe(eligible)\n",
    "model = EconomicModel.fromGCPFile(\n",
    "    params.gcp.bucket, params.economic_model.filename\n",
    ")\n",
    "for peer in eligible:\n",
    "    peer.economic_model = model\n",
    "    \n",
    "Utils.rewardProbability(eligible)\n",
    "\n",
    "print(f\"Eligible peers: {len(eligible)}\")"
   ]
  },
  {
   "cell_type": "markdown",
   "metadata": {},
   "source": [
    "### Funds of Netwatchers "
   ]
  },
  {
   "cell_type": "code",
   "execution_count": 6,
   "metadata": {},
   "outputs": [
    {
     "name": "stdout",
     "output_type": "stream",
     "text": [
      "[72600.9, 72699.6, 73160.9, 73813.5]\n"
     ]
    }
   ],
   "source": [
    "node_funds = []\n",
    "\n",
    "for node in network_nodes:\n",
    "    peer = [peer for peer in eligible if peer.address == node.address][0]\n",
    "    node_funds.append(peer.total_balance)\n",
    "\n",
    "print(node_funds)"
   ]
  },
  {
   "cell_type": "markdown",
   "metadata": {},
   "source": [
    "### Relayed Token Calculation "
   ]
  },
  {
   "cell_type": "code",
   "execution_count": 11,
   "metadata": {},
   "outputs": [
    {
     "name": "stdout",
     "output_type": "stream",
     "text": [
      "ct_funding_received=350_000.00\n",
      "distributed_rewards=57_725.10\n"
     ]
    }
   ],
   "source": [
    "ct_nodes = []\n",
    "for node in network_nodes:\n",
    "    node = [e for e in eligible if e.address == node.address][0]\n",
    "    ct_nodes.append(node)\n",
    "\n",
    "ct_funding_received=0\n",
    "for node in ct_nodes:\n",
    "    amounts = await get_fundings(\"0xd9a00176cf49dfb9ca3ef61805a2850f45cb1d05\", node.safe_address)\n",
    "    ct_funding_received += sum(amounts)\n",
    "\n",
    "distributed_rewards = ct_funding_received - sum(node_funds)\n",
    "print(f\"{ct_funding_received=:_.2f}\")\n",
    "print(f\"{distributed_rewards=:_.2f}\")"
   ]
  },
  {
   "cell_type": "code",
   "execution_count": 13,
   "metadata": {},
   "outputs": [
    {
     "name": "stdout",
     "output_type": "stream",
     "text": [
      "total_rewards=207_725.10\n"
     ]
    }
   ],
   "source": [
    "airdropped = 6*25_000 # Get this number from Andrius\n",
    "total_rewards = airdropped + distributed_rewards\n",
    "print(f\"{total_rewards=:_.2f}\")"
   ]
  },
  {
   "cell_type": "code",
   "execution_count": null,
   "metadata": {},
   "outputs": [],
   "source": []
  }
 ],
 "metadata": {
  "kernelspec": {
   "display_name": "Python 3",
   "language": "python",
   "name": "python3"
  },
  "language_info": {
   "codemirror_mode": {
    "name": "ipython",
    "version": 3
   },
   "file_extension": ".py",
   "mimetype": "text/x-python",
   "name": "python",
   "nbconvert_exporter": "python",
   "pygments_lexer": "ipython3",
   "version": "3.9.18"
  },
  "orig_nbformat": 4
 },
 "nbformat": 4,
 "nbformat_minor": 2
}
