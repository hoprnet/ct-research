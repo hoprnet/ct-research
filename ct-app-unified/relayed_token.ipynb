{
 "cells": [
  {
   "cell_type": "markdown",
   "metadata": {},
   "source": [
    "## Relayed HOPR tokens by the ct-app"
   ]
  },
  {
   "cell_type": "code",
   "execution_count": 1,
   "metadata": {},
   "outputs": [],
   "source": [
    "from dotenv import load_dotenv\n",
    "\n",
    "from core.components.parameters import Parameters\n",
    "from core.components.utils import Utils\n",
    "from core.model.subgraph_entry import SubgraphEntry\n",
    "from core.model.topology_entry import TopologyEntry\n",
    "from core.model.economic_model import EconomicModel\n",
    "from core.model.peer import Peer\n",
    "from core.node import Node\n"
   ]
  },
  {
   "cell_type": "code",
   "execution_count": 2,
   "metadata": {},
   "outputs": [],
   "source": [
    "# Load environment variables\n",
    "load_dotenv(\"relayed_token.env\")\n",
    "\n",
    "params = Parameters()(\"SUBGRAPH_\", \"GCP_\", \"ECONOMIC_MODEL_\")\n",
    "nodes = Node.fromAddressListAndKey(*Utils.nodesAddresses(\"NODE_ADDRESS_\", \"NODE_KEY\"))\n",
    "\n",
    "api = nodes[-1].api\n",
    "network_nodes = nodes[:-1]\n"
   ]
  },
  {
   "cell_type": "code",
   "execution_count": 3,
   "metadata": {},
   "outputs": [],
   "source": [
    "async def get_subgraph_data():\n",
    "    data = {\n",
    "        \"query\": params.subgraph.query,\n",
    "        \"variables\": {\"first\": params.subgraph.pagination_size, \"skip\": 0},\n",
    "    }\n",
    "\n",
    "    safes = []\n",
    "    while True:\n",
    "        _, response = await Utils.httpPOST(\n",
    "            params.subgraph.url, data\n",
    "        )\n",
    "\n",
    "        if \"data\" not in response:\n",
    "            break\n",
    "\n",
    "        safes.extend(response[\"data\"][\"safes\"])\n",
    "\n",
    "        if len(response[\"data\"][\"safes\"]) >= params.subgraph.pagination_size:\n",
    "            data[\"variables\"][\"skip\"] += params.subgraph.pagination_size\n",
    "        else:\n",
    "            break\n",
    "\n",
    "    results = list[SubgraphEntry]()\n",
    "    for safe in safes:\n",
    "        results.extend(\n",
    "            [\n",
    "                SubgraphEntry.fromSubgraphResult(node)\n",
    "                for node in safe[\"registeredNodesInNetworkRegistry\"]\n",
    "            ]\n",
    "        )\n",
    "\n",
    "\n",
    "    return results\n",
    "\n",
    "async def get_topology_data():\n",
    "    channels = await api.all_channels(False)\n",
    "\n",
    "    results = await Utils.aggregatePeerBalanceInChannels(channels.all)\n",
    "    return [TopologyEntry.fromDict(*arg) for arg in results.items()]\n",
    "\n",
    "async def get_node_data():\n",
    "    results = set[Peer]()\n",
    "\n",
    "    for node in network_nodes:\n",
    "        await node._retrieve_address()\n",
    "        node_result = await node.api.peers(params=[\"peer_id\", \"peer_address\"], quality=0.5)\n",
    "        \n",
    "        peers = {Peer(item[\"peer_id\"], item[\"peer_address\"]) for item in node_result}\n",
    "        results.update(peers)\n",
    "\n",
    "    return results"
   ]
  },
  {
   "cell_type": "code",
   "execution_count": 4,
   "metadata": {},
   "outputs": [
    {
     "name": "stdout",
     "output_type": "stream",
     "text": [
      "Topology size: 387\n",
      "Subgraph size: 544\n",
      "Number of peers: 359\n"
     ]
    }
   ],
   "source": [
    "topology = await get_topology_data()\n",
    "print(f\"Topology size: {len(topology)}\")\n",
    "\n",
    "subgraph = await get_subgraph_data()\n",
    "print(f\"Subgraph size: {len(subgraph)}\")\n",
    "\n",
    "peers = await get_node_data()\n",
    "print(f\"Number of peers: {len(peers)}\")"
   ]
  },
  {
   "cell_type": "code",
   "execution_count": 5,
   "metadata": {},
   "outputs": [
    {
     "name": "stdout",
     "output_type": "stream",
     "text": [
      "Eligible peers: 281\n"
     ]
    }
   ],
   "source": [
    "eligible = Utils.mergeTopologyPeersSubgraph(topology, peers, subgraph)\n",
    "Utils.allowManyNodePerSafe(eligible)\n",
    "model = EconomicModel.fromGCPFile(\n",
    "    params.gcp.bucket, params.economic_model.filename\n",
    ")\n",
    "for peer in eligible:\n",
    "    peer.economic_model = model\n",
    "    \n",
    "Utils.rewardProbability(eligible)\n",
    "\n",
    "print(f\"Eligible peers: {len(eligible)}\")"
   ]
  },
  {
   "cell_type": "markdown",
   "metadata": {},
   "source": [
    "### Funds of Netwatchers "
   ]
  },
  {
   "cell_type": "code",
   "execution_count": 6,
   "metadata": {},
   "outputs": [
    {
     "name": "stdout",
     "output_type": "stream",
     "text": [
      "[35351.29999999998, 35378.20000000001, 35854.69999999999, 36506.19999999998]\n"
     ]
    }
   ],
   "source": [
    "node_funds = []\n",
    "\n",
    "for node in network_nodes:\n",
    "    peer = [peer for peer in eligible if peer.address == node.address][0]\n",
    "    node_funds.append(peer.total_balance)\n",
    "\n",
    "print(node_funds)"
   ]
  },
  {
   "cell_type": "markdown",
   "metadata": {},
   "source": [
    "### Relayed Token Calculation "
   ]
  },
  {
   "cell_type": "code",
   "execution_count": 7,
   "metadata": {},
   "outputs": [
    {
     "name": "stdout",
     "output_type": "stream",
     "text": [
      "56_909.60\n"
     ]
    }
   ],
   "source": [
    "ct_funding_received = 200_000 # Funding transactions that the ct-app receives (should be automated by getting that information directly from the chain)\n",
    "distributed_rewards = ct_funding_received - sum(node_funds)\n",
    "print(f\"{distributed_rewards:_.2f}\")"
   ]
  },
  {
   "cell_type": "code",
   "execution_count": 10,
   "metadata": {},
   "outputs": [
    {
     "name": "stdout",
     "output_type": "stream",
     "text": [
      "206_909.60\n"
     ]
    }
   ],
   "source": [
    "airdropped = 6*25_000 # Get this number from Andrius\n",
    "total_rewards = airdropped + distributed_rewards\n",
    "print(f\"{total_rewards:_.2f}\")"
   ]
  },
  {
   "cell_type": "code",
   "execution_count": null,
   "metadata": {},
   "outputs": [],
   "source": []
  }
 ],
 "metadata": {
  "kernelspec": {
   "display_name": "Python 3",
   "language": "python",
   "name": "python3"
  },
  "language_info": {
   "codemirror_mode": {
    "name": "ipython",
    "version": 3
   },
   "file_extension": ".py",
   "mimetype": "text/x-python",
   "name": "python",
   "nbconvert_exporter": "python",
   "pygments_lexer": "ipython3",
   "version": "3.9.18"
  },
  "orig_nbformat": 4
 },
 "nbformat": 4,
 "nbformat_minor": 2
}
